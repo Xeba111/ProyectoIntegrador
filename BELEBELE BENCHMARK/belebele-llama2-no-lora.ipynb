{
 "cells": [
  {
   "cell_type": "code",
   "execution_count": 1,
   "metadata": {},
   "outputs": [
    {
     "name": "stderr",
     "output_type": "stream",
     "text": [
      "/home/cslab03/anaconda3/envs/sebas2/lib/python3.11/site-packages/tqdm/auto.py:21: TqdmWarning: IProgress not found. Please update jupyter and ipywidgets. See https://ipywidgets.readthedocs.io/en/stable/user_install.html\n",
      "  from .autonotebook import tqdm as notebook_tqdm\n"
     ]
    }
   ],
   "source": [
    "from transformers import AutoModelForCausalLM, AutoTokenizer, BitsAndBytesConfig,HfArgumentParser,TrainingArguments,pipeline, logging, TextStreamer\n",
    "from peft import LoraConfig, PeftModel, prepare_model_for_kbit_training, get_peft_model \n",
    "import transformers\n",
    "import torch\n",
    "from datasets import load_dataset\n",
    "from tqdm import tqdm"
   ]
  },
  {
   "cell_type": "code",
   "execution_count": 2,
   "metadata": {},
   "outputs": [],
   "source": [
    "base_model = \"meta-llama/Llama-2-7b-chat-hf\" \n"
   ]
  },
  {
   "cell_type": "code",
   "execution_count": 3,
   "metadata": {},
   "outputs": [
    {
     "name": "stderr",
     "output_type": "stream",
     "text": [
      "Downloading config.json: 100%|██████████| 614/614 [00:00<00:00, 1.26MB/s]\n",
      "Downloading (…)fetensors.index.json: 100%|██████████| 26.8k/26.8k [00:00<00:00, 5.22MB/s]\n",
      "Downloading (…)of-00002.safetensors: 100%|██████████| 9.98G/9.98G [05:15<00:00, 31.6MB/s]\n",
      "Downloading (…)of-00002.safetensors: 100%|██████████| 3.50G/3.50G [01:53<00:00, 30.9MB/s]\n",
      "Downloading shards: 100%|██████████| 2/2 [07:10<00:00, 215.40s/it]\n",
      "Loading checkpoint shards: 100%|██████████| 2/2 [00:02<00:00,  1.44s/it]\n",
      "Downloading generation_config.json: 100%|██████████| 188/188 [00:00<00:00, 457kB/s]\n"
     ]
    }
   ],
   "source": [
    "model = AutoModelForCausalLM.from_pretrained(\n",
    "    base_model,\n",
    "    load_in_8bit = True,\n",
    "    device_map=\"auto\",\n",
    "\n",
    ")\n"
   ]
  },
  {
   "cell_type": "code",
   "execution_count": 4,
   "metadata": {},
   "outputs": [],
   "source": [
    "ds = load_dataset(path=\"facebook/belebele\",split=\"spa_Latn\")"
   ]
  },
  {
   "cell_type": "code",
   "execution_count": 5,
   "metadata": {},
   "outputs": [],
   "source": [
    "# Select the first five rows of the dataset for example prompts\n",
    "ds_examples=ds.select(range(0,5))\n",
    "ds_prompts=ds.select(range(5,len(ds)))\n",
    "\n",
    "prompt_template=\"\"\"{flores_passage}\n",
    "Question: {question}\n",
    "Answer A: {mc_answer1}\n",
    "Answer B: {mc_answer2}\n",
    "Answer C: {mc_answer3}\n",
    "Answer D: {mc_answer4}\n",
    "Correct answer: {correct_answer}\"\"\"\n",
    "\n",
    "# Prepare example prompts for 5-shot prompting\n",
    "choices=[\"A\",\"B\",\"C\",\"D\"]\n",
    "prompt_examples = \"\\n\\n\".join([ prompt_template.format(**d,correct_answer=choices[int(d[\"correct_answer_num\"])-1]) for d in ds_examples])"
   ]
  },
  {
   "cell_type": "code",
   "execution_count": 6,
   "metadata": {},
   "outputs": [
    {
     "data": {
      "text/plain": [
       "LlamaForCausalLM(\n",
       "  (model): LlamaModel(\n",
       "    (embed_tokens): Embedding(32000, 4096)\n",
       "    (layers): ModuleList(\n",
       "      (0-31): 32 x LlamaDecoderLayer(\n",
       "        (self_attn): LlamaAttention(\n",
       "          (q_proj): Linear8bitLt(in_features=4096, out_features=4096, bias=False)\n",
       "          (k_proj): Linear8bitLt(in_features=4096, out_features=4096, bias=False)\n",
       "          (v_proj): Linear8bitLt(in_features=4096, out_features=4096, bias=False)\n",
       "          (o_proj): Linear8bitLt(in_features=4096, out_features=4096, bias=False)\n",
       "          (rotary_emb): LlamaRotaryEmbedding()\n",
       "        )\n",
       "        (mlp): LlamaMLP(\n",
       "          (gate_proj): Linear8bitLt(in_features=4096, out_features=11008, bias=False)\n",
       "          (up_proj): Linear8bitLt(in_features=4096, out_features=11008, bias=False)\n",
       "          (down_proj): Linear8bitLt(in_features=11008, out_features=4096, bias=False)\n",
       "          (act_fn): SiLUActivation()\n",
       "        )\n",
       "        (input_layernorm): LlamaRMSNorm()\n",
       "        (post_attention_layernorm): LlamaRMSNorm()\n",
       "      )\n",
       "    )\n",
       "    (norm): LlamaRMSNorm()\n",
       "  )\n",
       "  (lm_head): Linear(in_features=4096, out_features=32000, bias=False)\n",
       ")"
      ]
     },
     "execution_count": 6,
     "metadata": {},
     "output_type": "execute_result"
    }
   ],
   "source": [
    "model"
   ]
  },
  {
   "cell_type": "code",
   "execution_count": 7,
   "metadata": {},
   "outputs": [],
   "source": [
    "tokenizer_path = \"meta-llama/Llama-2-7b-chat-hf\" "
   ]
  },
  {
   "cell_type": "code",
   "execution_count": 8,
   "metadata": {},
   "outputs": [
    {
     "name": "stderr",
     "output_type": "stream",
     "text": [
      "Downloading tokenizer_config.json: 100%|██████████| 1.62k/1.62k [00:00<00:00, 4.51MB/s]\n",
      "Downloading tokenizer.model: 100%|██████████| 500k/500k [00:00<00:00, 54.3MB/s]\n",
      "Downloading tokenizer.json: 100%|██████████| 1.84M/1.84M [00:00<00:00, 4.41MB/s]\n",
      "Downloading (…)cial_tokens_map.json: 100%|██████████| 414/414 [00:00<00:00, 973kB/s]\n"
     ]
    }
   ],
   "source": [
    "tokenizer = AutoTokenizer.from_pretrained(tokenizer_path, trust_remote_code=True)\n"
   ]
  },
  {
   "cell_type": "code",
   "execution_count": 9,
   "metadata": {},
   "outputs": [],
   "source": [
    "pipeline = transformers.pipeline(\n",
    "    \"text-generation\",\n",
    "    model=model,\n",
    "    tokenizer=tokenizer,\n",
    "    torch_dtype=torch.bfloat16,\n",
    "    device_map=\"auto\",\n",
    ")"
   ]
  },
  {
   "cell_type": "code",
   "execution_count": 10,
   "metadata": {},
   "outputs": [
    {
     "name": "stderr",
     "output_type": "stream",
     "text": [
      "  0%|          | 0/895 [00:00<?, ?it/s]"
     ]
    },
    {
     "name": "stderr",
     "output_type": "stream",
     "text": [
      "  1%|          | 10/895 [00:12<13:23,  1.10it/s] /home/cslab03/anaconda3/envs/sebas2/lib/python3.11/site-packages/transformers/pipelines/base.py:1101: UserWarning: You seem to be using the pipelines sequentially on GPU. In order to maximize efficiency please use a dataset\n",
      "  warnings.warn(\n",
      "100%|██████████| 895/895 [14:37<00:00,  1.02it/s]"
     ]
    },
    {
     "name": "stdout",
     "output_type": "stream",
     "text": [
      "895 questions, 489 correct (54.6%)\n"
     ]
    },
    {
     "name": "stderr",
     "output_type": "stream",
     "text": [
      "\n"
     ]
    }
   ],
   "source": [
    "# parse model response and extract the model'schoice\n",
    "def parse_choice(response):\n",
    "    choices=[\"A\",\"B\",\"C\",\"D\"]\n",
    "    \n",
    "    if len(response)==1:\n",
    "        return choices.index(response[0]) + 1 if response[0] in choices else None\n",
    "    elif response[0] in choices and not response[1].isalpha():\n",
    "        return choices.index(response[0]) + 1\n",
    "    else:\n",
    "        return None\n",
    "\n",
    "# sampling parameters: llama-precise\n",
    "gen_config = {\n",
    "    \"temperature\": 0.7,\n",
    "    \"top_p\": 0.1,\n",
    "    \"repetition_penalty\": 1.18,\n",
    "    \"top_k\": 40,\n",
    "    \"do_sample\": True,\n",
    "    \"max_new_tokens\": 5,\n",
    "    \"pad_token_id\": pipeline.tokenizer.eos_token_id,\n",
    "}\n",
    "\n",
    "# Loop through prompts and evaluate model responses\n",
    "q_correct = q_total = 0\n",
    "for rowNo, row in enumerate(tqdm(ds_prompts)):        \n",
    "    # Construct the prompt by combining the example prompts and the current row's question\n",
    "    prompt=(prompt_examples + \"\\n\\n\" + prompt_template.format(**row, correct_answer=\"\")).strip()\n",
    "\n",
    "    # Generate a response from the model\n",
    "    response=pipeline(prompt, **gen_config)[0][\"generated_text\"][len(prompt):]\n",
    "    if \"\\n\" in response:\n",
    "        response=response.split(\"\\n\")[0]\n",
    "\n",
    "    # Parse the model's choice and compare it to the correct answer\n",
    "    choice=parse_choice(response.strip())\n",
    "    if choice==int(row[\"correct_answer_num\"]):\n",
    "        q_correct+=1 \n",
    "    q_total+=1\n",
    "\n",
    "print(f\"{q_total} questions, {q_correct} correct ({round(q_correct/q_total*100,1)}%)\")  "
   ]
  },
  {
   "cell_type": "code",
   "execution_count": 11,
   "metadata": {},
   "outputs": [],
   "source": [
    "#model.load_adapter(\"/home/cslab02/Desktop/TesisSebasMena/text-generation-webui/loras/llama2-chat-7b-spanish-256-saved/\")"
   ]
  },
  {
   "cell_type": "code",
   "execution_count": 12,
   "metadata": {},
   "outputs": [
    {
     "ename": "Exception",
     "evalue": "Impossible to guess which tokenizer to use. Please provide a PreTrainedTokenizer class or a path/identifier to a pretrained tokenizer.",
     "output_type": "error",
     "traceback": [
      "\u001b[0;31m---------------------------------------------------------------------------\u001b[0m",
      "\u001b[0;31mException\u001b[0m                                 Traceback (most recent call last)",
      "\u001b[1;32m/home/cslab03/Desktop/Sebas/belebele-llama2-no-lora.ipynb Cell 12\u001b[0m line \u001b[0;36m1\n\u001b[0;32m----> <a href='vscode-notebook-cell:/home/cslab03/Desktop/Sebas/belebele-llama2-no-lora.ipynb#X15sZmlsZQ%3D%3D?line=0'>1</a>\u001b[0m pipeline \u001b[39m=\u001b[39m transformers\u001b[39m.\u001b[39;49mpipeline(\n\u001b[1;32m      <a href='vscode-notebook-cell:/home/cslab03/Desktop/Sebas/belebele-llama2-no-lora.ipynb#X15sZmlsZQ%3D%3D?line=1'>2</a>\u001b[0m     \u001b[39m\"\u001b[39;49m\u001b[39mtext-generation\u001b[39;49m\u001b[39m\"\u001b[39;49m,\n\u001b[1;32m      <a href='vscode-notebook-cell:/home/cslab03/Desktop/Sebas/belebele-llama2-no-lora.ipynb#X15sZmlsZQ%3D%3D?line=2'>3</a>\u001b[0m     model\u001b[39m=\u001b[39;49mmodel,\n\u001b[1;32m      <a href='vscode-notebook-cell:/home/cslab03/Desktop/Sebas/belebele-llama2-no-lora.ipynb#X15sZmlsZQ%3D%3D?line=3'>4</a>\u001b[0m     torch_dtype\u001b[39m=\u001b[39;49mtorch\u001b[39m.\u001b[39;49mbfloat16,\n\u001b[1;32m      <a href='vscode-notebook-cell:/home/cslab03/Desktop/Sebas/belebele-llama2-no-lora.ipynb#X15sZmlsZQ%3D%3D?line=4'>5</a>\u001b[0m     device_map\u001b[39m=\u001b[39;49m\u001b[39m\"\u001b[39;49m\u001b[39mauto\u001b[39;49m\u001b[39m\"\u001b[39;49m,\n\u001b[1;32m      <a href='vscode-notebook-cell:/home/cslab03/Desktop/Sebas/belebele-llama2-no-lora.ipynb#X15sZmlsZQ%3D%3D?line=5'>6</a>\u001b[0m )\n",
      "File \u001b[0;32m~/anaconda3/envs/sebas2/lib/python3.11/site-packages/transformers/pipelines/__init__.py:950\u001b[0m, in \u001b[0;36mpipeline\u001b[0;34m(task, model, config, tokenizer, feature_extractor, image_processor, framework, revision, use_fast, token, device, device_map, torch_dtype, trust_remote_code, model_kwargs, pipeline_class, **kwargs)\u001b[0m\n\u001b[1;32m    947\u001b[0m         tokenizer \u001b[39m=\u001b[39m config\n\u001b[1;32m    948\u001b[0m     \u001b[39melse\u001b[39;00m:\n\u001b[1;32m    949\u001b[0m         \u001b[39m# Impossible to guess what is the right tokenizer here\u001b[39;00m\n\u001b[0;32m--> 950\u001b[0m         \u001b[39mraise\u001b[39;00m \u001b[39mException\u001b[39;00m(\n\u001b[1;32m    951\u001b[0m             \u001b[39m\"\u001b[39m\u001b[39mImpossible to guess which tokenizer to use. \u001b[39m\u001b[39m\"\u001b[39m\n\u001b[1;32m    952\u001b[0m             \u001b[39m\"\u001b[39m\u001b[39mPlease provide a PreTrainedTokenizer class or a path/identifier to a pretrained tokenizer.\u001b[39m\u001b[39m\"\u001b[39m\n\u001b[1;32m    953\u001b[0m         )\n\u001b[1;32m    955\u001b[0m \u001b[39m# Instantiate tokenizer if needed\u001b[39;00m\n\u001b[1;32m    956\u001b[0m \u001b[39mif\u001b[39;00m \u001b[39misinstance\u001b[39m(tokenizer, (\u001b[39mstr\u001b[39m, \u001b[39mtuple\u001b[39m)):\n",
      "\u001b[0;31mException\u001b[0m: Impossible to guess which tokenizer to use. Please provide a PreTrainedTokenizer class or a path/identifier to a pretrained tokenizer."
     ]
    }
   ],
   "source": [
    "pipeline = transformers.pipeline(\n",
    "    \"text-generation\",\n",
    "    model=model,\n",
    "    torch_dtype=torch.bfloat16,\n",
    "    device_map=\"auto\",\n",
    ")"
   ]
  }
 ],
 "metadata": {
  "kernelspec": {
   "display_name": "sebas",
   "language": "python",
   "name": "python3"
  },
  "language_info": {
   "codemirror_mode": {
    "name": "ipython",
    "version": 3
   },
   "file_extension": ".py",
   "mimetype": "text/x-python",
   "name": "python",
   "nbconvert_exporter": "python",
   "pygments_lexer": "ipython3",
   "version": "3.11.5"
  }
 },
 "nbformat": 4,
 "nbformat_minor": 2
}
