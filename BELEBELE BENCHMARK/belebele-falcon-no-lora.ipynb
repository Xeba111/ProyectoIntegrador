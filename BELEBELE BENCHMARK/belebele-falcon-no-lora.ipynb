{
 "cells": [
  {
   "cell_type": "code",
   "execution_count": 1,
   "metadata": {},
   "outputs": [
    {
     "name": "stderr",
     "output_type": "stream",
     "text": [
      "/home/cslab02/anaconda3/envs/sebas/lib/python3.11/site-packages/tqdm/auto.py:21: TqdmWarning: IProgress not found. Please update jupyter and ipywidgets. See https://ipywidgets.readthedocs.io/en/stable/user_install.html\n",
      "  from .autonotebook import tqdm as notebook_tqdm\n",
      "2023-11-30 13:12:36.105093: I tensorflow/core/util/port.cc:111] oneDNN custom operations are on. You may see slightly different numerical results due to floating-point round-off errors from different computation orders. To turn them off, set the environment variable `TF_ENABLE_ONEDNN_OPTS=0`.\n",
      "2023-11-30 13:12:36.166116: E tensorflow/compiler/xla/stream_executor/cuda/cuda_dnn.cc:9342] Unable to register cuDNN factory: Attempting to register factory for plugin cuDNN when one has already been registered\n",
      "2023-11-30 13:12:36.166158: E tensorflow/compiler/xla/stream_executor/cuda/cuda_fft.cc:609] Unable to register cuFFT factory: Attempting to register factory for plugin cuFFT when one has already been registered\n",
      "2023-11-30 13:12:36.166192: E tensorflow/compiler/xla/stream_executor/cuda/cuda_blas.cc:1518] Unable to register cuBLAS factory: Attempting to register factory for plugin cuBLAS when one has already been registered\n",
      "2023-11-30 13:12:36.177628: I tensorflow/core/platform/cpu_feature_guard.cc:182] This TensorFlow binary is optimized to use available CPU instructions in performance-critical operations.\n",
      "To enable the following instructions: AVX2 AVX512F AVX512_VNNI FMA, in other operations, rebuild TensorFlow with the appropriate compiler flags.\n",
      "2023-11-30 13:12:37.371572: W tensorflow/compiler/tf2tensorrt/utils/py_utils.cc:38] TF-TRT Warning: Could not find TensorRT\n"
     ]
    }
   ],
   "source": [
    "from transformers import AutoModelForCausalLM, AutoTokenizer, BitsAndBytesConfig,HfArgumentParser,TrainingArguments,pipeline, logging, TextStreamer\n",
    "from peft import LoraConfig, PeftModel, prepare_model_for_kbit_training, get_peft_model \n",
    "import transformers\n",
    "import torch\n",
    "from datasets import load_dataset\n",
    "from tqdm import tqdm"
   ]
  },
  {
   "cell_type": "code",
   "execution_count": 2,
   "metadata": {},
   "outputs": [],
   "source": [
    "base_model = \"ybelkada/falcon-7b-sharded-bf16\" \n"
   ]
  },
  {
   "cell_type": "code",
   "execution_count": 3,
   "metadata": {},
   "outputs": [],
   "source": [
    "bnb_config = BitsAndBytesConfig(\n",
    "    load_in_4bit= True,\n",
    "    bnb_4bit_quant_type= \"nf4\",\n",
    "    bnb_4bit_compute_dtype= torch.bfloat16,\n",
    "    bnb_4bit_use_double_quant= False,\n",
    ")"
   ]
  },
  {
   "cell_type": "code",
   "execution_count": 4,
   "metadata": {},
   "outputs": [
    {
     "name": "stderr",
     "output_type": "stream",
     "text": [
      "Loading checkpoint shards: 100%|██████████| 8/8 [00:15<00:00,  1.96s/it]\n"
     ]
    }
   ],
   "source": [
    "model = AutoModelForCausalLM.from_pretrained(\n",
    "    base_model,\n",
    "    quantization_config=bnb_config,\n",
    "    device_map=\"auto\",\n",
    "\n",
    ")\n"
   ]
  },
  {
   "cell_type": "code",
   "execution_count": 5,
   "metadata": {},
   "outputs": [],
   "source": [
    "ds = load_dataset(path=\"facebook/belebele\",split=\"spa_Latn\")"
   ]
  },
  {
   "cell_type": "code",
   "execution_count": 6,
   "metadata": {},
   "outputs": [],
   "source": [
    "# Select the first five rows of the dataset for example prompts\n",
    "ds_examples=ds.select(range(0,5))\n",
    "ds_prompts=ds.select(range(5,len(ds)))\n",
    "\n",
    "prompt_template=\"\"\"{flores_passage}\n",
    "Question: {question}\n",
    "Answer A: {mc_answer1}\n",
    "Answer B: {mc_answer2}\n",
    "Answer C: {mc_answer3}\n",
    "Answer D: {mc_answer4}\n",
    "Correct answer: {correct_answer}\"\"\"\n",
    "\n",
    "# Prepare example prompts for 5-shot prompting\n",
    "choices=[\"A\",\"B\",\"C\",\"D\"]\n",
    "prompt_examples = \"\\n\\n\".join([ prompt_template.format(**d,correct_answer=choices[int(d[\"correct_answer_num\"])-1]) for d in ds_examples])"
   ]
  },
  {
   "cell_type": "code",
   "execution_count": 7,
   "metadata": {},
   "outputs": [
    {
     "data": {
      "text/plain": [
       "FalconForCausalLM(\n",
       "  (transformer): FalconModel(\n",
       "    (word_embeddings): Embedding(65024, 4544)\n",
       "    (h): ModuleList(\n",
       "      (0-31): 32 x FalconDecoderLayer(\n",
       "        (self_attention): FalconAttention(\n",
       "          (maybe_rotary): FalconRotaryEmbedding()\n",
       "          (query_key_value): Linear4bit(in_features=4544, out_features=4672, bias=False)\n",
       "          (dense): Linear4bit(in_features=4544, out_features=4544, bias=False)\n",
       "          (attention_dropout): Dropout(p=0.0, inplace=False)\n",
       "        )\n",
       "        (mlp): FalconMLP(\n",
       "          (dense_h_to_4h): Linear4bit(in_features=4544, out_features=18176, bias=False)\n",
       "          (act): GELU(approximate='none')\n",
       "          (dense_4h_to_h): Linear4bit(in_features=18176, out_features=4544, bias=False)\n",
       "        )\n",
       "        (input_layernorm): LayerNorm((4544,), eps=1e-05, elementwise_affine=True)\n",
       "      )\n",
       "    )\n",
       "    (ln_f): LayerNorm((4544,), eps=1e-05, elementwise_affine=True)\n",
       "  )\n",
       "  (lm_head): Linear(in_features=4544, out_features=65024, bias=False)\n",
       ")"
      ]
     },
     "execution_count": 7,
     "metadata": {},
     "output_type": "execute_result"
    }
   ],
   "source": [
    "model"
   ]
  },
  {
   "cell_type": "code",
   "execution_count": 8,
   "metadata": {},
   "outputs": [],
   "source": [
    "tokenizer_path = \"ybelkada/falcon-7b-sharded-bf16\" "
   ]
  },
  {
   "cell_type": "code",
   "execution_count": 9,
   "metadata": {},
   "outputs": [],
   "source": [
    "tokenizer = AutoTokenizer.from_pretrained(tokenizer_path, trust_remote_code=True)\n"
   ]
  },
  {
   "cell_type": "code",
   "execution_count": 10,
   "metadata": {},
   "outputs": [],
   "source": [
    "pipeline = transformers.pipeline(\n",
    "    \"text-generation\",\n",
    "    model=model,\n",
    "    tokenizer=tokenizer,\n",
    "    torch_dtype=torch.bfloat16,\n",
    "    device_map=\"auto\",\n",
    ")"
   ]
  },
  {
   "cell_type": "code",
   "execution_count": 11,
   "metadata": {},
   "outputs": [
    {
     "name": "stderr",
     "output_type": "stream",
     "text": [
      "  0%|          | 0/895 [00:00<?, ?it/s]/home/cslab02/anaconda3/envs/sebas/lib/python3.11/site-packages/transformers/generation/utils.py:1473: UserWarning: You have modified the pretrained model configuration to control generation. This is a deprecated strategy to control generation and will be removed soon, in a future version. Please use and modify the model generation configuration (see https://huggingface.co/docs/transformers/generation_strategies#default-text-generation-configuration )\n",
      "  warnings.warn(\n",
      "The current implementation of Falcon calls `torch.scaled_dot_product_attention` directly, this will be deprecated in the future in favor of the `BetterTransformer` API. Please install the latest optimum library with `pip install -U optimum` and call `model.to_bettertransformer()` to benefit from `torch.scaled_dot_product_attention` and future performance optimizations.\n",
      "  1%|          | 10/895 [00:12<15:25,  1.05s/it]/home/cslab02/anaconda3/envs/sebas/lib/python3.11/site-packages/transformers/pipelines/base.py:1101: UserWarning: You seem to be using the pipelines sequentially on GPU. In order to maximize efficiency please use a dataset\n",
      "  warnings.warn(\n",
      "100%|██████████| 895/895 [16:44<00:00,  1.12s/it]"
     ]
    },
    {
     "name": "stdout",
     "output_type": "stream",
     "text": [
      "895 questions, 264 correct (29.5%)\n"
     ]
    },
    {
     "name": "stderr",
     "output_type": "stream",
     "text": [
      "\n"
     ]
    }
   ],
   "source": [
    "# parse model response and extract the model'schoice\n",
    "def parse_choice(response):\n",
    "    choices=[\"A\",\"B\",\"C\",\"D\"]\n",
    "    \n",
    "    if len(response)==1:\n",
    "        return choices.index(response[0]) + 1 if response[0] in choices else None\n",
    "    elif response[0] in choices and not response[1].isalpha():\n",
    "        return choices.index(response[0]) + 1\n",
    "    else:\n",
    "        return None\n",
    "\n",
    "# sampling parameters: llama-precise\n",
    "gen_config = {\n",
    "    \"temperature\": 0.7,\n",
    "    \"top_p\": 0.1,\n",
    "    \"repetition_penalty\": 1.18,\n",
    "    \"top_k\": 40,\n",
    "    \"do_sample\": True,\n",
    "    \"max_new_tokens\": 5,\n",
    "    \"pad_token_id\": pipeline.tokenizer.eos_token_id,\n",
    "}\n",
    "\n",
    "# Loop through prompts and evaluate model responses\n",
    "q_correct = q_total = 0\n",
    "for rowNo, row in enumerate(tqdm(ds_prompts)):        \n",
    "    # Construct the prompt by combining the example prompts and the current row's question\n",
    "    prompt=(prompt_examples + \"\\n\\n\" + prompt_template.format(**row, correct_answer=\"\")).strip()\n",
    "\n",
    "    # Generate a response from the model\n",
    "    response=pipeline(prompt, **gen_config)[0][\"generated_text\"][len(prompt):]\n",
    "    if \"\\n\" in response:\n",
    "        response=response.split(\"\\n\")[0]\n",
    "\n",
    "    # Parse the model's choice and compare it to the correct answer\n",
    "    choice=parse_choice(response.strip())\n",
    "    if choice==int(row[\"correct_answer_num\"]):\n",
    "        q_correct+=1 \n",
    "    q_total+=1\n",
    "\n",
    "print(f\"{q_total} questions, {q_correct} correct ({round(q_correct/q_total*100,1)}%)\")  "
   ]
  },
  {
   "cell_type": "code",
   "execution_count": 12,
   "metadata": {},
   "outputs": [],
   "source": [
    "pipeline = transformers.pipeline(\n",
    "    \"text-generation\",\n",
    "    model=model,\n",
    "    torch_dtype=torch.bfloat16,\n",
    "    device_map=\"auto\",\n",
    ")"
   ]
  }
 ],
 "metadata": {
  "kernelspec": {
   "display_name": "sebas",
   "language": "python",
   "name": "python3"
  },
  "language_info": {
   "codemirror_mode": {
    "name": "ipython",
    "version": 3
   },
   "file_extension": ".py",
   "mimetype": "text/x-python",
   "name": "python",
   "nbconvert_exporter": "python",
   "pygments_lexer": "ipython3",
   "version": "3.11.5"
  }
 },
 "nbformat": 4,
 "nbformat_minor": 2
}
